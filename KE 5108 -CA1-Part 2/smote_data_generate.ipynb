{
 "cells": [
  {
   "cell_type": "code",
   "execution_count": 39,
   "metadata": {
    "collapsed": true
   },
   "outputs": [],
   "source": [
    "import pandas as pd\n",
    "from collections import Counter\n",
    "from imblearn.over_sampling import SMOTE \n",
    "from sklearn import preprocessing"
   ]
  },
  {
   "cell_type": "code",
   "execution_count": 42,
   "metadata": {
    "collapsed": true
   },
   "outputs": [],
   "source": [
    "df = pd.read_csv(\"data_details/trialPromoResults.csv\")"
   ]
  },
  {
   "cell_type": "code",
   "execution_count": 43,
   "metadata": {},
   "outputs": [
    {
     "name": "stdout",
     "output_type": "stream",
     "text": [
      "Original dataset shape Counter({'None': 828, 'A': 133, 'B': 39})\n"
     ]
    }
   ],
   "source": [
    "df = df.drop([\"index\"], axis=1)\n",
    "y = df[\"decision\"]\n",
    "print('Original dataset shape {}'.format(Counter(y)))"
   ]
  },
  {
   "cell_type": "code",
   "execution_count": 44,
   "metadata": {},
   "outputs": [
    {
     "data": {
      "text/html": [
       "<div>\n",
       "<style>\n",
       "    .dataframe thead tr:only-child th {\n",
       "        text-align: right;\n",
       "    }\n",
       "\n",
       "    .dataframe thead th {\n",
       "        text-align: left;\n",
       "    }\n",
       "\n",
       "    .dataframe tbody tr th {\n",
       "        vertical-align: top;\n",
       "    }\n",
       "</style>\n",
       "<table border=\"1\" class=\"dataframe\">\n",
       "  <thead>\n",
       "    <tr style=\"text-align: right;\">\n",
       "      <th></th>\n",
       "      <th>sex</th>\n",
       "      <th>mstatus</th>\n",
       "      <th>age</th>\n",
       "      <th>children</th>\n",
       "      <th>occupation</th>\n",
       "      <th>education</th>\n",
       "      <th>income</th>\n",
       "      <th>avbal</th>\n",
       "      <th>avtrans</th>\n",
       "    </tr>\n",
       "  </thead>\n",
       "  <tbody>\n",
       "    <tr>\n",
       "      <th>0</th>\n",
       "      <td>F</td>\n",
       "      <td>married</td>\n",
       "      <td>56.82</td>\n",
       "      <td>1</td>\n",
       "      <td>legal</td>\n",
       "      <td>secondary</td>\n",
       "      <td>3105.39</td>\n",
       "      <td>33003.48</td>\n",
       "      <td>1776.81</td>\n",
       "    </tr>\n",
       "    <tr>\n",
       "      <th>1</th>\n",
       "      <td>M</td>\n",
       "      <td>widowed</td>\n",
       "      <td>87.35</td>\n",
       "      <td>3</td>\n",
       "      <td>retired</td>\n",
       "      <td>tertiary</td>\n",
       "      <td>4874.08</td>\n",
       "      <td>18941.99</td>\n",
       "      <td>863.56</td>\n",
       "    </tr>\n",
       "    <tr>\n",
       "      <th>2</th>\n",
       "      <td>M</td>\n",
       "      <td>single</td>\n",
       "      <td>28.75</td>\n",
       "      <td>0</td>\n",
       "      <td>manuf</td>\n",
       "      <td>professional</td>\n",
       "      <td>14232.37</td>\n",
       "      <td>30013.32</td>\n",
       "      <td>3231.14</td>\n",
       "    </tr>\n",
       "    <tr>\n",
       "      <th>3</th>\n",
       "      <td>F</td>\n",
       "      <td>married</td>\n",
       "      <td>35.71</td>\n",
       "      <td>0</td>\n",
       "      <td>education</td>\n",
       "      <td>postgrad</td>\n",
       "      <td>3214.93</td>\n",
       "      <td>15423.24</td>\n",
       "      <td>1996.09</td>\n",
       "    </tr>\n",
       "    <tr>\n",
       "      <th>4</th>\n",
       "      <td>M</td>\n",
       "      <td>single</td>\n",
       "      <td>20.53</td>\n",
       "      <td>0</td>\n",
       "      <td>construct</td>\n",
       "      <td>tertiary</td>\n",
       "      <td>3214.93</td>\n",
       "      <td>15423.24</td>\n",
       "      <td>1996.09</td>\n",
       "    </tr>\n",
       "  </tbody>\n",
       "</table>\n",
       "</div>"
      ],
      "text/plain": [
       "  sex  mstatus    age  children occupation     education    income     avbal  \\\n",
       "0   F  married  56.82         1      legal     secondary   3105.39  33003.48   \n",
       "1   M  widowed  87.35         3    retired      tertiary   4874.08  18941.99   \n",
       "2   M   single  28.75         0      manuf  professional  14232.37  30013.32   \n",
       "3   F  married  35.71         0  education      postgrad   3214.93  15423.24   \n",
       "4   M   single  20.53         0  construct      tertiary   3214.93  15423.24   \n",
       "\n",
       "   avtrans  \n",
       "0  1776.81  \n",
       "1   863.56  \n",
       "2  3231.14  \n",
       "3  1996.09  \n",
       "4  1996.09  "
      ]
     },
     "execution_count": 44,
     "metadata": {},
     "output_type": "execute_result"
    }
   ],
   "source": [
    "X.head()"
   ]
  },
  {
   "cell_type": "code",
   "execution_count": 45,
   "metadata": {},
   "outputs": [
    {
     "data": {
      "text/html": [
       "<div>\n",
       "<style>\n",
       "    .dataframe thead tr:only-child th {\n",
       "        text-align: right;\n",
       "    }\n",
       "\n",
       "    .dataframe thead th {\n",
       "        text-align: left;\n",
       "    }\n",
       "\n",
       "    .dataframe tbody tr th {\n",
       "        vertical-align: top;\n",
       "    }\n",
       "</style>\n",
       "<table border=\"1\" class=\"dataframe\">\n",
       "  <thead>\n",
       "    <tr style=\"text-align: right;\">\n",
       "      <th></th>\n",
       "      <th>sex</th>\n",
       "      <th>mstatus</th>\n",
       "      <th>age</th>\n",
       "      <th>children</th>\n",
       "      <th>occupation</th>\n",
       "      <th>education</th>\n",
       "      <th>income</th>\n",
       "      <th>avbal</th>\n",
       "      <th>avtrans</th>\n",
       "      <th>decision</th>\n",
       "    </tr>\n",
       "  </thead>\n",
       "  <tbody>\n",
       "    <tr>\n",
       "      <th>0</th>\n",
       "      <td>0</td>\n",
       "      <td>1</td>\n",
       "      <td>56.82</td>\n",
       "      <td>1</td>\n",
       "      <td>5</td>\n",
       "      <td>2</td>\n",
       "      <td>3105.39</td>\n",
       "      <td>33003.48</td>\n",
       "      <td>1776.81</td>\n",
       "      <td>None</td>\n",
       "    </tr>\n",
       "    <tr>\n",
       "      <th>1</th>\n",
       "      <td>1</td>\n",
       "      <td>3</td>\n",
       "      <td>87.35</td>\n",
       "      <td>3</td>\n",
       "      <td>8</td>\n",
       "      <td>3</td>\n",
       "      <td>4874.08</td>\n",
       "      <td>18941.99</td>\n",
       "      <td>863.56</td>\n",
       "      <td>None</td>\n",
       "    </tr>\n",
       "    <tr>\n",
       "      <th>2</th>\n",
       "      <td>1</td>\n",
       "      <td>2</td>\n",
       "      <td>28.75</td>\n",
       "      <td>0</td>\n",
       "      <td>6</td>\n",
       "      <td>1</td>\n",
       "      <td>14232.37</td>\n",
       "      <td>30013.32</td>\n",
       "      <td>3231.14</td>\n",
       "      <td>B</td>\n",
       "    </tr>\n",
       "    <tr>\n",
       "      <th>3</th>\n",
       "      <td>0</td>\n",
       "      <td>1</td>\n",
       "      <td>35.71</td>\n",
       "      <td>0</td>\n",
       "      <td>2</td>\n",
       "      <td>0</td>\n",
       "      <td>3214.93</td>\n",
       "      <td>15423.24</td>\n",
       "      <td>1996.09</td>\n",
       "      <td>None</td>\n",
       "    </tr>\n",
       "    <tr>\n",
       "      <th>4</th>\n",
       "      <td>1</td>\n",
       "      <td>2</td>\n",
       "      <td>20.53</td>\n",
       "      <td>0</td>\n",
       "      <td>1</td>\n",
       "      <td>3</td>\n",
       "      <td>3214.93</td>\n",
       "      <td>15423.24</td>\n",
       "      <td>1996.09</td>\n",
       "      <td>None</td>\n",
       "    </tr>\n",
       "  </tbody>\n",
       "</table>\n",
       "</div>"
      ],
      "text/plain": [
       "   sex  mstatus    age  children  occupation  education    income     avbal  \\\n",
       "0    0        1  56.82         1           5          2   3105.39  33003.48   \n",
       "1    1        3  87.35         3           8          3   4874.08  18941.99   \n",
       "2    1        2  28.75         0           6          1  14232.37  30013.32   \n",
       "3    0        1  35.71         0           2          0   3214.93  15423.24   \n",
       "4    1        2  20.53         0           1          3   3214.93  15423.24   \n",
       "\n",
       "   avtrans decision  \n",
       "0  1776.81     None  \n",
       "1   863.56     None  \n",
       "2  3231.14        B  \n",
       "3  1996.09     None  \n",
       "4  1996.09     None  "
      ]
     },
     "execution_count": 45,
     "metadata": {},
     "output_type": "execute_result"
    }
   ],
   "source": [
    "le = preprocessing.LabelEncoder()\n",
    "\n",
    "# transform sex\n",
    "le.fit([\"F\", \"M\"])\n",
    "df[\"sex\"] = le.transform(df[\"sex\"])\n",
    "\n",
    "# transform mstatus\n",
    "le.fit([\"divorced\", \"married\", \"single\", \"widowed\"])\n",
    "df[\"mstatus\"] = le.transform(df[\"mstatus\"])\n",
    "\n",
    "le.fit([\"construct\", \"education\", \"finance\", \"government\", \"IT\", \"legal\", \"manuf\", \"medicine\", \"retired\"])\n",
    "df[\"occupation\"] = le.transform(df[\"occupation\"])\n",
    "\n",
    "le.fit([\"secondary\", \"tertiary\", \"postgrad\", \"professional\"])\n",
    "df[\"education\"] = le.transform(df[\"education\"])\n",
    "\n",
    "df.head()"
   ]
  },
  {
   "cell_type": "code",
   "execution_count": 47,
   "metadata": {},
   "outputs": [
    {
     "data": {
      "text/html": [
       "<div>\n",
       "<style>\n",
       "    .dataframe thead tr:only-child th {\n",
       "        text-align: right;\n",
       "    }\n",
       "\n",
       "    .dataframe thead th {\n",
       "        text-align: left;\n",
       "    }\n",
       "\n",
       "    .dataframe tbody tr th {\n",
       "        vertical-align: top;\n",
       "    }\n",
       "</style>\n",
       "<table border=\"1\" class=\"dataframe\">\n",
       "  <thead>\n",
       "    <tr style=\"text-align: right;\">\n",
       "      <th></th>\n",
       "      <th>sex</th>\n",
       "      <th>mstatus</th>\n",
       "      <th>age</th>\n",
       "      <th>children</th>\n",
       "      <th>occupation</th>\n",
       "      <th>education</th>\n",
       "      <th>income</th>\n",
       "      <th>avbal</th>\n",
       "      <th>avtrans</th>\n",
       "    </tr>\n",
       "  </thead>\n",
       "  <tbody>\n",
       "    <tr>\n",
       "      <th>0</th>\n",
       "      <td>0</td>\n",
       "      <td>1</td>\n",
       "      <td>56.82</td>\n",
       "      <td>1</td>\n",
       "      <td>5</td>\n",
       "      <td>2</td>\n",
       "      <td>3105.39</td>\n",
       "      <td>33003.48</td>\n",
       "      <td>1776.81</td>\n",
       "    </tr>\n",
       "    <tr>\n",
       "      <th>1</th>\n",
       "      <td>1</td>\n",
       "      <td>3</td>\n",
       "      <td>87.35</td>\n",
       "      <td>3</td>\n",
       "      <td>8</td>\n",
       "      <td>3</td>\n",
       "      <td>4874.08</td>\n",
       "      <td>18941.99</td>\n",
       "      <td>863.56</td>\n",
       "    </tr>\n",
       "    <tr>\n",
       "      <th>2</th>\n",
       "      <td>1</td>\n",
       "      <td>2</td>\n",
       "      <td>28.75</td>\n",
       "      <td>0</td>\n",
       "      <td>6</td>\n",
       "      <td>1</td>\n",
       "      <td>14232.37</td>\n",
       "      <td>30013.32</td>\n",
       "      <td>3231.14</td>\n",
       "    </tr>\n",
       "    <tr>\n",
       "      <th>3</th>\n",
       "      <td>0</td>\n",
       "      <td>1</td>\n",
       "      <td>35.71</td>\n",
       "      <td>0</td>\n",
       "      <td>2</td>\n",
       "      <td>0</td>\n",
       "      <td>3214.93</td>\n",
       "      <td>15423.24</td>\n",
       "      <td>1996.09</td>\n",
       "    </tr>\n",
       "    <tr>\n",
       "      <th>4</th>\n",
       "      <td>1</td>\n",
       "      <td>2</td>\n",
       "      <td>20.53</td>\n",
       "      <td>0</td>\n",
       "      <td>1</td>\n",
       "      <td>3</td>\n",
       "      <td>3214.93</td>\n",
       "      <td>15423.24</td>\n",
       "      <td>1996.09</td>\n",
       "    </tr>\n",
       "  </tbody>\n",
       "</table>\n",
       "</div>"
      ],
      "text/plain": [
       "   sex  mstatus    age  children  occupation  education    income     avbal  \\\n",
       "0    0        1  56.82         1           5          2   3105.39  33003.48   \n",
       "1    1        3  87.35         3           8          3   4874.08  18941.99   \n",
       "2    1        2  28.75         0           6          1  14232.37  30013.32   \n",
       "3    0        1  35.71         0           2          0   3214.93  15423.24   \n",
       "4    1        2  20.53         0           1          3   3214.93  15423.24   \n",
       "\n",
       "   avtrans  \n",
       "0  1776.81  \n",
       "1   863.56  \n",
       "2  3231.14  \n",
       "3  1996.09  \n",
       "4  1996.09  "
      ]
     },
     "execution_count": 47,
     "metadata": {},
     "output_type": "execute_result"
    }
   ],
   "source": [
    "X = df.loc[:, df.columns != \"decision\"]\n",
    "X.head()"
   ]
  },
  {
   "cell_type": "markdown",
   "metadata": {},
   "source": [
    "### Run the SMOTE algorithm to balance the output classes as mentioned [here](http://contrib.scikit-learn.org/imbalanced-learn/stable/generated/imblearn.over_sampling.SMOTE.html)"
   ]
  },
  {
   "cell_type": "code",
   "execution_count": 48,
   "metadata": {},
   "outputs": [],
   "source": [
    "sm = SMOTE(random_state=42)\n",
    "X_res, y_res = sm.fit_sample(X, y)"
   ]
  },
  {
   "cell_type": "code",
   "execution_count": 49,
   "metadata": {},
   "outputs": [
    {
     "name": "stdout",
     "output_type": "stream",
     "text": [
      "Resampled dataset shape Counter({'None': 828, 'B': 828, 'A': 828})\n"
     ]
    }
   ],
   "source": [
    "print('Resampled dataset shape {}'.format(Counter(y_res)))"
   ]
  },
  {
   "cell_type": "markdown",
   "metadata": {},
   "source": [
    "### So SMOTE in Python cannot yet handle categorical data - refer [this](https://stackoverflow.com/questions/47655813/oversampling-smote-for-binary-and-categorical-data-in-python)"
   ]
  },
  {
   "cell_type": "markdown",
   "metadata": {},
   "source": [
    "Employing the workaround mentioned in the above link"
   ]
  },
  {
   "cell_type": "code",
   "execution_count": 51,
   "metadata": {},
   "outputs": [
    {
     "data": {
      "text/plain": [
       "array([[0.00000000e+00, 1.00000000e+00, 5.68200000e+01, ...,\n",
       "        3.10539000e+03, 3.30034800e+04, 1.77681000e+03],\n",
       "       [1.00000000e+00, 3.00000000e+00, 8.73500000e+01, ...,\n",
       "        4.87408000e+03, 1.89419900e+04, 8.63560000e+02],\n",
       "       [1.00000000e+00, 2.00000000e+00, 2.87500000e+01, ...,\n",
       "        1.42323700e+04, 3.00133200e+04, 3.23114000e+03],\n",
       "       ...,\n",
       "       [2.03701249e-01, 1.00000000e+00, 5.78820503e+01, ...,\n",
       "        3.39828853e+03, 1.28325956e+04, 1.75215081e+03],\n",
       "       [0.00000000e+00, 1.00000000e+00, 3.35669645e+01, ...,\n",
       "        7.20328308e+03, 7.30739274e+04, 4.51064777e+03],\n",
       "       [1.00000000e+00, 1.00000000e+00, 3.88666578e+01, ...,\n",
       "        2.04640286e+03, 1.86638747e+04, 5.96466926e+02]])"
      ]
     },
     "execution_count": 51,
     "metadata": {},
     "output_type": "execute_result"
    }
   ],
   "source": [
    "X_res"
   ]
  },
  {
   "cell_type": "code",
   "execution_count": null,
   "metadata": {
    "collapsed": true
   },
   "outputs": [],
   "source": []
  }
 ],
 "metadata": {
  "kernelspec": {
   "display_name": "Python 3",
   "language": "python",
   "name": "python3"
  },
  "language_info": {
   "codemirror_mode": {
    "name": "ipython",
    "version": 3
   },
   "file_extension": ".py",
   "mimetype": "text/x-python",
   "name": "python",
   "nbconvert_exporter": "python",
   "pygments_lexer": "ipython3",
   "version": "3.6.3"
  }
 },
 "nbformat": 4,
 "nbformat_minor": 2
}
