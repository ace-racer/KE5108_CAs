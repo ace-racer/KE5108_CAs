{
 "cells": [
  {
   "cell_type": "markdown",
   "metadata": {},
   "source": [
    "## Boiler plate"
   ]
  },
  {
   "cell_type": "code",
   "execution_count": 35,
   "metadata": {},
   "outputs": [
    {
     "name": "stdout",
     "output_type": "stream",
     "text": [
      "Collecting xgboost\n",
      "  Downloading https://files.pythonhosted.org/packages/03/b8/0fcc6d3f28f45c5d1ef33fecca4b3bbcf8c4f53bebdc9b9146dad8fda64a/xgboost-0.80-py2.py3-none-win_amd64.whl (7.1MB)\n",
      "Requirement already satisfied: scipy in g:\\anaconda\\lib\\site-packages (from xgboost) (0.19.1)\n",
      "Requirement already satisfied: numpy in g:\\anaconda\\lib\\site-packages (from xgboost) (1.14.2)\n",
      "Installing collected packages: xgboost\n",
      "Successfully installed xgboost-0.80\n"
     ]
    },
    {
     "name": "stderr",
     "output_type": "stream",
     "text": [
      "jupyterlab-launcher 0.13.1 has requirement jsonschema>=2.6.0, but you'll have jsonschema 2.5.1 which is incompatible.\n",
      "You are using pip version 10.0.0, however version 18.0 is available.\n",
      "You should consider upgrading via the 'python -m pip install --upgrade pip' command.\n"
     ]
    }
   ],
   "source": [
    "#!pip install xgboost"
   ]
  },
  {
   "cell_type": "code",
   "execution_count": 77,
   "metadata": {},
   "outputs": [],
   "source": [
    "import pandas as pd\n",
    "import numpy as np\n",
    "from sklearn import preprocessing\n",
    "import itertools\n",
    "import matplotlib.pyplot as plt\n",
    "from sklearn.metrics import confusion_matrix, precision_recall_fscore_support, accuracy_score, cohen_kappa_score\n",
    "import pickle\n",
    "import xgboost as xgb\n",
    "%matplotlib inline\n",
    "\n",
    "class_names = [\"A\", \"B\", \"None\"]"
   ]
  },
  {
   "cell_type": "code",
   "execution_count": 78,
   "metadata": {
    "collapsed": true
   },
   "outputs": [],
   "source": [
    "def plot_confusion_matrix(cm, classes,\n",
    "                          normalize=False,\n",
    "                          title='Confusion matrix',\n",
    "                          cmap=plt.cm.Blues):\n",
    "    \"\"\"\n",
    "    This function prints and plots the confusion matrix.\n",
    "    Normalization can be applied by setting `normalize=True`.\n",
    "    \"\"\"\n",
    "    if normalize:\n",
    "        cm = cm.astype('float') / cm.sum(axis=1)[:, np.newaxis]\n",
    "    #     print(\"Normalized confusion matrix\")\n",
    "    # else:\n",
    "    #     print('Confusion matrix, without normalization')\n",
    "\n",
    "    # print(cm)\n",
    "\n",
    "    plt.imshow(cm, interpolation='nearest', cmap=cmap)\n",
    "    plt.title(title)\n",
    "    plt.colorbar()\n",
    "    tick_marks = np.arange(len(classes))\n",
    "    plt.xticks(tick_marks, classes, rotation=45)\n",
    "    plt.yticks(tick_marks, classes)\n",
    "\n",
    "    fmt = '.2f' if normalize else 'd'\n",
    "    thresh = cm.max() / 2.\n",
    "    for i, j in itertools.product(range(cm.shape[0]), range(cm.shape[1])):\n",
    "        plt.text(j, i, format(cm[i, j], fmt),\n",
    "                 horizontalalignment=\"center\",\n",
    "                 color=\"white\" if cm[i, j] > thresh else \"black\")\n",
    "\n",
    "    plt.tight_layout()\n",
    "    plt.ylabel('True label')\n",
    "    plt.xlabel('Predicted label')"
   ]
  },
  {
   "cell_type": "markdown",
   "metadata": {},
   "source": [
    "### Prepare the test data"
   ]
  },
  {
   "cell_type": "code",
   "execution_count": 79,
   "metadata": {},
   "outputs": [
    {
     "name": "stdout",
     "output_type": "stream",
     "text": [
      "Test dataset shape 4000, 12\n"
     ]
    },
    {
     "data": {
      "text/plain": [
       "Index(['age', 'income', 'avbal', 'avtrans', 'status', 'score', 'sexNum',\n",
       "       'mstatusNum', 'occupationNum', 'educationNum', 'childrenNum', 'sex_F',\n",
       "       'sex_M', 'mstatus_divorced', 'mstatus_married', 'mstatus_single',\n",
       "       'mstatus_widowed', 'occupation_IT', 'occupation_construct',\n",
       "       'occupation_education', 'occupation_finance', 'occupation_government',\n",
       "       'occupation_legal', 'occupation_manuf', 'occupation_medicine',\n",
       "       'occupation_retired', 'education_postgrad', 'education_professional',\n",
       "       'education_secondary', 'education_tertiary', 'children_0', 'children_1',\n",
       "       'children_2', 'children_3', 'children_4'],\n",
       "      dtype='object')"
      ]
     },
     "execution_count": 79,
     "metadata": {},
     "output_type": "execute_result"
    }
   ],
   "source": [
    "df = pd.read_csv(\"original_data/cust_actual_merged.csv\")\n",
    "df_copy = pd.read_csv(\"original_data/cust_actual_merged.csv\")\n",
    "print('Test dataset shape {0}, {1}'.format(df.shape[0], df.shape[1]))\n",
    "\n",
    "# strip the spaces in the header, if present\n",
    "df = df.rename(columns=lambda x: x.strip())\n",
    "df.columns.values\n",
    "\n",
    "categorical_features = [\"sex\", \"mstatus\", \"occupation\", \"education\", \"children\"]\n",
    "df[categorical_features].head()\n",
    "df[\"children\"] = df[\"children\"].astype(str)\n",
    "label_encoders = {}\n",
    "label_mappings = {}\n",
    "for categorical_feature in categorical_features:\n",
    "    label_encoders[categorical_feature] = preprocessing.LabelEncoder()\n",
    "    df[categorical_feature + \"Num\"] = label_encoders[categorical_feature].fit_transform(df[categorical_feature])\n",
    "    label_mappings[categorical_feature] = label_encoders[categorical_feature].classes_\n",
    "\n",
    "label_encoders = {}\n",
    "label_mappings = {}\n",
    "for categorical_feature in categorical_features:\n",
    "    label_encoders[categorical_feature] = preprocessing.LabelEncoder()\n",
    "    df[categorical_feature + \"Num\"] = label_encoders[categorical_feature].fit_transform(df[categorical_feature])\n",
    "    label_mappings[categorical_feature] = label_encoders[categorical_feature].classes_\n",
    "\n",
    "for categorical_feature in categorical_features:\n",
    "    for class_value in label_mappings[categorical_feature]:\n",
    "        df[categorical_feature + \"_\" + (class_value)] = df[categorical_feature] == np.array([(class_value)] * df.shape[0])\n",
    "        df[categorical_feature + \"_\" + (class_value)] = df[categorical_feature + \"_\" + (class_value)].astype(int)\n",
    "\n",
    "# drop the categorical values\n",
    "df = df.drop(categorical_features, axis=1)\n",
    "\n",
    "df.head()\n",
    "\n",
    "\n",
    "train_df = pd.read_csv(\"working_data/trial_promo_training.csv\")\n",
    "features_to_scale = [\"age\", \"income\", \"avbal\", \"avtrans\"]\n",
    "min_max_scaler = preprocessing.MinMaxScaler()\n",
    "\n",
    "# fit on the train data\n",
    "train_df[features_to_scale] = min_max_scaler.fit(train_df[features_to_scale])\n",
    "\n",
    "# transform the test data\n",
    "df[features_to_scale] = min_max_scaler.transform(df[features_to_scale])\n",
    "df.head()\n",
    "\n",
    "customer_ids = df[\"index\"]\n",
    "df = df.drop(\"index\", axis=1)\n",
    "df.head()\n",
    "\n",
    "df.columns"
   ]
  },
  {
   "cell_type": "code",
   "execution_count": 80,
   "metadata": {},
   "outputs": [],
   "source": [
    "df = df.loc[:,df.columns != \"score\"]\n",
    "y_test_labels = df[\"status\"]\n",
    "y_test = df[\"status\"].replace(\"A\", 0).replace(\"B\", 1).replace(\"None\", 2)\n",
    "df = df.loc[:,df.columns != \"status\"]"
   ]
  },
  {
   "cell_type": "code",
   "execution_count": 81,
   "metadata": {},
   "outputs": [
    {
     "data": {
      "text/plain": [
       "Index(['age', 'income', 'avbal', 'avtrans', 'sexNum', 'mstatusNum',\n",
       "       'occupationNum', 'educationNum', 'childrenNum', 'sex_F', 'sex_M',\n",
       "       'mstatus_divorced', 'mstatus_married', 'mstatus_single',\n",
       "       'mstatus_widowed', 'occupation_IT', 'occupation_construct',\n",
       "       'occupation_education', 'occupation_finance', 'occupation_government',\n",
       "       'occupation_legal', 'occupation_manuf', 'occupation_medicine',\n",
       "       'occupation_retired', 'education_postgrad', 'education_professional',\n",
       "       'education_secondary', 'education_tertiary', 'children_0', 'children_1',\n",
       "       'children_2', 'children_3', 'children_4'],\n",
       "      dtype='object')"
      ]
     },
     "execution_count": 81,
     "metadata": {},
     "output_type": "execute_result"
    }
   ],
   "source": [
    "df.columns"
   ]
  },
  {
   "cell_type": "markdown",
   "metadata": {},
   "source": [
    "### Load the different models"
   ]
  },
  {
   "cell_type": "markdown",
   "metadata": {},
   "source": [
    "## Neural network"
   ]
  },
  {
   "cell_type": "code",
   "execution_count": 82,
   "metadata": {},
   "outputs": [],
   "source": [
    "from keras.models import load_model\n",
    "\n",
    "# the model must be in the models folder\n",
    "model_to_use = \"model-004-0.82.h5\"\n",
    "model = load_model('models/'+model_to_use)"
   ]
  },
  {
   "cell_type": "code",
   "execution_count": 83,
   "metadata": {},
   "outputs": [
    {
     "name": "stdout",
     "output_type": "stream",
     "text": [
      "Num predictions: 4000\n"
     ]
    }
   ],
   "source": [
    "num_columns = [\"sexNum\", \"mstatusNum\", \"occupationNum\", \"educationNum\", \"childrenNum\"]\n",
    "X_test = df.drop(num_columns, axis=1)\n",
    "y_test_pred_nn = model.predict(X_test)\n",
    "print(\"Num predictions: {0}\".format(len(y_test_pred_nn)))\n",
    "y_test_pred_nn = np.argmax(y_test_pred_nn, axis=1)"
   ]
  },
  {
   "cell_type": "code",
   "execution_count": 84,
   "metadata": {},
   "outputs": [
    {
     "data": {
      "image/png": "[encoded data removed]",
      "text/plain": [
       "<matplotlib.figure.Figure at 0x165a51f5cf8>"
      ]
     },
     "metadata": {},
     "output_type": "display_data"
    }
   ],
   "source": [
    "cm_nn = confusion_matrix(y_test, y_test_pred_nn)\n",
    "np.set_printoptions(precision=4)\n",
    "\n",
    "# Plot non-normalized confusion matrix\n",
    "plt.figure()\n",
    "plot_confusion_matrix(cm_nn, classes=class_names,\n",
    "                      title='Confusion matrix, without normalization')"
   ]
  },
  {
   "cell_type": "code",
   "execution_count": 85,
   "metadata": {},
   "outputs": [
    {
     "name": "stdout",
     "output_type": "stream",
     "text": [
      "test accuracy: 0.76875\n"
     ]
    }
   ],
   "source": [
    "print(\"test accuracy:\", accuracy_score(y_test, y_test_pred_nn))"
   ]
  },
  {
   "cell_type": "markdown",
   "metadata": {},
   "source": [
    "## Xgboost"
   ]
  },
  {
   "cell_type": "code",
   "execution_count": 86,
   "metadata": {},
   "outputs": [
    {
     "name": "stdout",
     "output_type": "stream",
     "text": [
      "test accuracy: 0.78025\n"
     ]
    },
    {
     "name": "stderr",
     "output_type": "stream",
     "text": [
      "G:\\anaconda\\lib\\site-packages\\sklearn\\preprocessing\\label.py:151: DeprecationWarning: The truth value of an empty array is ambiguous. Returning False, but in future this will result in an error. Use `array.size > 0` to check that an array is not empty.\n",
      "  if diff:\n"
     ]
    },
    {
     "data": {
      "image/png": "[encoded data removed]",
      "text/plain": [
       "<matplotlib.figure.Figure at 0x165a81be2e8>"
      ]
     },
     "metadata": {},
     "output_type": "display_data"
    }
   ],
   "source": [
    "feature_columns = [\"age\", \"income\", \"avbal\", \"avtrans\", \"sexNum\", \"mstatusNum\", \"occupationNum\", \"educationNum\", \"childrenNum\"]\n",
    "X_test = df.loc[:, feature_columns]\n",
    "xg_boost_model = pickle.load(open(\"models/xgboost_kappa_0_2576.pickle.dat\", \"rb\"))\n",
    "y_test_pred_xg_boost = xg_boost_model.predict(X_test)\n",
    "\n",
    "print(\"test accuracy:\", accuracy_score(y_test, y_test_pred_xg_boost))\n",
    "\n",
    "cm_xgboost = confusion_matrix(y_test, y_test_pred_xg_boost)\n",
    "np.set_printoptions(precision=4)\n",
    "\n",
    "# Plot non-normalized confusion matrix\n",
    "plt.figure()\n",
    "plot_confusion_matrix(cm_xgboost, classes=class_names, title='Confusion matrix, without normalization')"
   ]
  },
  {
   "cell_type": "markdown",
   "metadata": {},
   "source": [
    "## AdaBoost"
   ]
  },
  {
   "cell_type": "code",
   "execution_count": 87,
   "metadata": {},
   "outputs": [
    {
     "name": "stdout",
     "output_type": "stream",
     "text": [
      "test accuracy: 0.80375\n"
     ]
    },
    {
     "data": {
      "image/png": "[encoded data removed]",
      "text/plain": [
       "<matplotlib.figure.Figure at 0x165a947bb38>"
      ]
     },
     "metadata": {},
     "output_type": "display_data"
    }
   ],
   "source": [
    "ada_boost_model = pickle.load(open(\"models/adaboost_kappa_0_1702.pickle.dat\", \"rb\"))\n",
    "y_test_pred_ada_boost = ada_boost_model.predict(X_test)\n",
    "\n",
    "print(\"test accuracy:\", accuracy_score(y_test, y_test_pred_ada_boost))\n",
    "\n",
    "cm_adaboost = confusion_matrix(y_test, y_test_pred_ada_boost)\n",
    "np.set_printoptions(precision=4)\n",
    "\n",
    "# Plot non-normalized confusion matrix\n",
    "plt.figure()\n",
    "plot_confusion_matrix(cm_adaboost, classes=class_names, title='Confusion matrix, without normalization')"
   ]
  },
  {
   "cell_type": "markdown",
   "metadata": {},
   "source": [
    "## Ensemble different classification models"
   ]
  },
  {
   "cell_type": "code",
   "execution_count": 92,
   "metadata": {
    "collapsed": true
   },
   "outputs": [],
   "source": [
    "from collections import Counter\n",
    "\n",
    "# predictions inside the list to be sorted in decreasing order of performance\n",
    "def get_max_voted_predictions(list_of_predictions):\n",
    "    if len(list_of_predictions) >= 3:\n",
    "        final_predictions = []\n",
    "        num_models = len(list_of_predictions)\n",
    "        \n",
    "        for itr in range(len(list_of_predictions[0])):\n",
    "            # get the default prediction from the first model\n",
    "            default_prediction = list_of_predictions[0][itr]\n",
    "            print(default_prediction)\n",
    "            print(list_of_predictions[:][itr])\n",
    "            c = Counter(list_of_predictions[:][itr])\n",
    "            most_common_tuples = c.most_common(1)\n",
    "            most_common_count = most_common_tuples[0][1]\n",
    "            if most_common_count > (num_models // 2):\n",
    "                final_predictions.append(most_common_tuples[0][0])\n",
    "            else:\n",
    "                final_predictions.append(default_prediction)\n",
    "                \n",
    "        return final_predictions\n",
    "                "
   ]
  },
  {
   "cell_type": "code",
   "execution_count": 93,
   "metadata": {},
   "outputs": [
    {
     "name": "stdout",
     "output_type": "stream",
     "text": [
      "[2 2 2 ... 1 2 2]\n",
      "[2 2 2 ... 1 2 2]\n",
      "[2 2 2 ... 2 2 2]\n"
     ]
    },
    {
     "ename": "IndexError",
     "evalue": "list index out of range",
     "output_type": "error",
     "traceback": [
      "\u001b[1;31m---------------------------------------------------------------------------\u001b[0m",
      "\u001b[1;31mIndexError\u001b[0m                                Traceback (most recent call last)",
      "\u001b[1;32m<ipython-input-93-e83081085693>\u001b[0m in \u001b[0;36m<module>\u001b[1;34m()\u001b[0m\n\u001b[1;32m----> 1\u001b[1;33m \u001b[0mensemble_y_predictions\u001b[0m \u001b[1;33m=\u001b[0m \u001b[0mget_max_voted_predictions\u001b[0m\u001b[1;33m(\u001b[0m\u001b[1;33m[\u001b[0m\u001b[0my_test_pred_nn\u001b[0m\u001b[1;33m,\u001b[0m \u001b[0my_test_pred_xg_boost\u001b[0m\u001b[1;33m,\u001b[0m \u001b[0my_test_pred_ada_boost\u001b[0m\u001b[1;33m]\u001b[0m\u001b[1;33m)\u001b[0m\u001b[1;33m\u001b[0m\u001b[0m\n\u001b[0m\u001b[0;32m      2\u001b[0m \u001b[0mprint\u001b[0m\u001b[1;33m(\u001b[0m\u001b[1;34m\"test accuracy:\"\u001b[0m\u001b[1;33m,\u001b[0m \u001b[0maccuracy_score\u001b[0m\u001b[1;33m(\u001b[0m\u001b[0my_test\u001b[0m\u001b[1;33m,\u001b[0m \u001b[0mensemble_y_predictions\u001b[0m\u001b[1;33m)\u001b[0m\u001b[1;33m)\u001b[0m\u001b[1;33m\u001b[0m\u001b[0m\n\u001b[0;32m      3\u001b[0m \u001b[1;33m\u001b[0m\u001b[0m\n\u001b[0;32m      4\u001b[0m \u001b[0mcm_ensemble\u001b[0m \u001b[1;33m=\u001b[0m \u001b[0mconfusion_matrix\u001b[0m\u001b[1;33m(\u001b[0m\u001b[0my_test\u001b[0m\u001b[1;33m,\u001b[0m \u001b[0mensemble_y_predictions\u001b[0m\u001b[1;33m)\u001b[0m\u001b[1;33m\u001b[0m\u001b[0m\n\u001b[0;32m      5\u001b[0m \u001b[0mnp\u001b[0m\u001b[1;33m.\u001b[0m\u001b[0mset_printoptions\u001b[0m\u001b[1;33m(\u001b[0m\u001b[0mprecision\u001b[0m\u001b[1;33m=\u001b[0m\u001b[1;36m4\u001b[0m\u001b[1;33m)\u001b[0m\u001b[1;33m\u001b[0m\u001b[0m\n",
      "\u001b[1;32m<ipython-input-92-a80e82792125>\u001b[0m in \u001b[0;36mget_max_voted_predictions\u001b[1;34m(list_of_predictions)\u001b[0m\n\u001b[0;32m     11\u001b[0m             \u001b[0mdefault_prediction\u001b[0m \u001b[1;33m=\u001b[0m \u001b[0mlist_of_predictions\u001b[0m\u001b[1;33m[\u001b[0m\u001b[1;36m0\u001b[0m\u001b[1;33m]\u001b[0m\u001b[1;33m[\u001b[0m\u001b[0mitr\u001b[0m\u001b[1;33m]\u001b[0m\u001b[1;33m\u001b[0m\u001b[0m\n\u001b[0;32m     12\u001b[0m \u001b[1;33m\u001b[0m\u001b[0m\n\u001b[1;32m---> 13\u001b[1;33m             \u001b[0mprint\u001b[0m\u001b[1;33m(\u001b[0m\u001b[0mlist_of_predictions\u001b[0m\u001b[1;33m[\u001b[0m\u001b[1;33m:\u001b[0m\u001b[1;33m]\u001b[0m\u001b[1;33m[\u001b[0m\u001b[0mitr\u001b[0m\u001b[1;33m]\u001b[0m\u001b[1;33m)\u001b[0m\u001b[1;33m\u001b[0m\u001b[0m\n\u001b[0m\u001b[0;32m     14\u001b[0m             \u001b[0mc\u001b[0m \u001b[1;33m=\u001b[0m \u001b[0mCounter\u001b[0m\u001b[1;33m(\u001b[0m\u001b[0mlist_of_predictions\u001b[0m\u001b[1;33m[\u001b[0m\u001b[1;33m:\u001b[0m\u001b[1;33m]\u001b[0m\u001b[1;33m[\u001b[0m\u001b[0mitr\u001b[0m\u001b[1;33m]\u001b[0m\u001b[1;33m)\u001b[0m\u001b[1;33m\u001b[0m\u001b[0m\n\u001b[0;32m     15\u001b[0m             \u001b[0mmost_common_tuples\u001b[0m \u001b[1;33m=\u001b[0m \u001b[0mc\u001b[0m\u001b[1;33m.\u001b[0m\u001b[0mmost_common\u001b[0m\u001b[1;33m(\u001b[0m\u001b[1;36m1\u001b[0m\u001b[1;33m)\u001b[0m\u001b[1;33m\u001b[0m\u001b[0m\n",
      "\u001b[1;31mIndexError\u001b[0m: list index out of range"
     ]
    }
   ],
   "source": [
    "ensemble_y_predictions = get_max_voted_predictions([y_test_pred_nn, y_test_pred_xg_boost, y_test_pred_ada_boost])\n",
    "print(\"test accuracy:\", accuracy_score(y_test, ensemble_y_predictions))\n",
    "\n",
    "cm_ensemble = confusion_matrix(y_test, ensemble_y_predictions)\n",
    "np.set_printoptions(precision=4)\n",
    "\n",
    "# Plot non-normalized confusion matrix\n",
    "plt.figure()\n",
    "plot_confusion_matrix(cm_ensemble, classes=class_names, title='Confusion matrix, without normalization')"
   ]
  },
  {
   "cell_type": "code",
   "execution_count": null,
   "metadata": {
    "collapsed": true
   },
   "outputs": [],
   "source": []
  }
 ],
 "metadata": {
  "kernelspec": {
   "display_name": "Python 3",
   "language": "python",
   "name": "python3"
  },
  "language_info": {
   "codemirror_mode": {
    "name": "ipython",
    "version": 3
   },
   "file_extension": ".py",
   "mimetype": "text/x-python",
   "name": "python",
   "nbconvert_exporter": "python",
   "pygments_lexer": "ipython3",
   "version": "3.6.3"
  }
 },
 "nbformat": 4,
 "nbformat_minor": 2
}
