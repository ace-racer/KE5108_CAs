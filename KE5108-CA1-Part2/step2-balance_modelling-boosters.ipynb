{
 "cells": [
  {
   "cell_type": "markdown",
   "metadata": {},
   "source": [
    "# Modeling using Boosters"
   ]
  },
  {
   "cell_type": "code",
   "execution_count": 1,
   "metadata": {},
   "outputs": [
    {
     "name": "stderr",
     "output_type": "stream",
     "text": [
      "/anaconda3/lib/python3.6/site-packages/sklearn/ensemble/weight_boosting.py:29: DeprecationWarning: numpy.core.umath_tests is an internal NumPy module and should not be imported. It will be removed in a future NumPy release.\n",
      "  from numpy.core.umath_tests import inner1d\n"
     ]
    }
   ],
   "source": [
    "import pandas as pd\n",
    "import numpy as np\n",
    "from sklearn import preprocessing\n",
    "import itertools\n",
    "import matplotlib.pyplot as plt\n",
    "from sklearn.metrics import confusion_matrix, precision_recall_fscore_support, accuracy_score, cohen_kappa_score\n",
    "from sklearn.model_selection import train_test_split\n",
    "from sklearn.ensemble import AdaBoostClassifier, GradientBoostingClassifier\n",
    "from sklearn.tree import DecisionTreeClassifier\n",
    "import xgboost as xgb\n",
    "%matplotlib inline\n",
    "\n",
    "RANDOM_STATE = 42\n",
    "class_names = [\"A\", \"B\", \"None\"]"
   ]
  },
  {
   "cell_type": "code",
   "execution_count": 2,
   "metadata": {},
   "outputs": [],
   "source": [
    "def plot_confusion_matrix(cm, classes,\n",
    "                          normalize=False,\n",
    "                          title='Confusion matrix',\n",
    "                          cmap=plt.cm.Blues):\n",
    "    \"\"\"\n",
    "    This function prints and plots the confusion matrix.\n",
    "    Normalization can be applied by setting `normalize=True`.\n",
    "    \"\"\"\n",
    "    if normalize:\n",
    "        cm = cm.astype('float') / cm.sum(axis=1)[:, np.newaxis]\n",
    "    #     print(\"Normalized confusion matrix\")\n",
    "    # else:\n",
    "    #     print('Confusion matrix, without normalization')\n",
    "\n",
    "    # print(cm)\n",
    "\n",
    "    plt.imshow(cm, interpolation='nearest', cmap=cmap)\n",
    "    plt.title(title)\n",
    "    plt.colorbar()\n",
    "    tick_marks = np.arange(len(classes))\n",
    "    plt.xticks(tick_marks, classes, rotation=45)\n",
    "    plt.yticks(tick_marks, classes)\n",
    "\n",
    "    fmt = '.2f' if normalize else 'd'\n",
    "    thresh = cm.max() / 2.\n",
    "    for i, j in itertools.product(range(cm.shape[0]), range(cm.shape[1])):\n",
    "        plt.text(j, i, format(cm[i, j], fmt),\n",
    "                 horizontalalignment=\"center\",\n",
    "                 color=\"white\" if cm[i, j] > thresh else \"black\")\n",
    "\n",
    "    plt.tight_layout()\n",
    "    plt.ylabel('True label')\n",
    "    plt.xlabel('Predicted label')"
   ]
  },
  {
   "cell_type": "code",
   "execution_count": 3,
   "metadata": {},
   "outputs": [
    {
     "name": "stdout",
     "output_type": "stream",
     "text": [
      "train_df shape (750, 34)\n",
      "val_df shape (250, 34)\n"
     ]
    }
   ],
   "source": [
    "train_df = pd.read_csv(\"working_data/trial_promo_training.csv\")\n",
    "val_df = pd.read_csv(\"working_data/trial_promo_testing.csv\")\n",
    "\n",
    "print(\"train_df shape\", train_df.shape)\n",
    "print(\"val_df shape\", val_df.shape)"
   ]
  },
  {
   "cell_type": "markdown",
   "metadata": {},
   "source": [
    "### Data balancing using equal classes strategy"
   ]
  },
  {
   "cell_type": "code",
   "execution_count": 4,
   "metadata": {},
   "outputs": [],
   "source": [
    "should_balance = True"
   ]
  },
  {
   "cell_type": "code",
   "execution_count": 5,
   "metadata": {},
   "outputs": [
    {
     "name": "stdout",
     "output_type": "stream",
     "text": [
      "Number of None's: 621\n",
      "Increase product A's by: 521\n",
      "Increase product B's by: 592\n",
      "Number of product A's: 100\n",
      "Number of product B's: 29\n"
     ]
    }
   ],
   "source": [
    "number_of_nones = train_df[train_df[\"decision\"] == \"None\"].shape[0]\n",
    "nones_df = train_df[train_df[\"decision\"] == \"None\"]\n",
    "productA_df = train_df[train_df[\"decision\"] == \"A\"]\n",
    "productB_df = train_df[train_df[\"decision\"] == \"B\"]\n",
    "print(\"Number of None's: \" + str(nones_df.shape[0]))\n",
    "print(\"Increase product A's by: \" + str(number_of_nones - productA_df.shape[0]))\n",
    "print(\"Increase product B's by: \" + str(number_of_nones - productB_df.shape[0]))\n",
    "print(\"Number of product A's: \" + str(productA_df.shape[0]))\n",
    "print(\"Number of product B's: \" + str(productB_df.shape[0]))\n",
    "times_to_increase_productA_df = (number_of_nones - productA_df.shape[0])//productA_df.shape[0]\n",
    "times_to_increase_productB_df = (number_of_nones - productB_df.shape[0])//productB_df.shape[0]"
   ]
  },
  {
   "cell_type": "code",
   "execution_count": 6,
   "metadata": {},
   "outputs": [
    {
     "name": "stdout",
     "output_type": "stream",
     "text": [
      "New # rows: 1701\n"
     ]
    }
   ],
   "source": [
    "if should_balance:\n",
    "    repeated_product_A = [productA_df] * times_to_increase_productA_df\n",
    "    repeated_product_B = [productB_df] * times_to_increase_productB_df\n",
    "    repeated_product_A_df = pd.concat(repeated_product_A)\n",
    "    repeated_product_B_df = pd.concat(repeated_product_B)\n",
    "    dfs_to_concat = [nones_df, repeated_product_A_df, repeated_product_B_df]\n",
    "    train_df = pd.concat(dfs_to_concat)\n",
    "    train_df = train_df.sample(frac=1).reset_index(drop=True)\n",
    "    print(\"New # rows: \" + str(train_df.shape[0]))\n",
    "    train_df.head()\n",
    "else:\n",
    "    print(\"Training data will not be balanced\")"
   ]
  },
  {
   "cell_type": "code",
   "execution_count": 7,
   "metadata": {},
   "outputs": [
    {
     "data": {
      "text/html": [
       "<div>\n",
       "<style scoped>\n",
       "    .dataframe tbody tr th:only-of-type {\n",
       "        vertical-align: middle;\n",
       "    }\n",
       "\n",
       "    .dataframe tbody tr th {\n",
       "        vertical-align: top;\n",
       "    }\n",
       "\n",
       "    .dataframe thead th {\n",
       "        text-align: right;\n",
       "    }\n",
       "</style>\n",
       "<table border=\"1\" class=\"dataframe\">\n",
       "  <thead>\n",
       "    <tr style=\"text-align: right;\">\n",
       "      <th></th>\n",
       "      <th>age</th>\n",
       "      <th>income</th>\n",
       "      <th>avbal</th>\n",
       "      <th>avtrans</th>\n",
       "      <th>sexNum</th>\n",
       "      <th>mstatusNum</th>\n",
       "      <th>occupationNum</th>\n",
       "      <th>educationNum</th>\n",
       "      <th>childrenNum</th>\n",
       "    </tr>\n",
       "  </thead>\n",
       "  <tbody>\n",
       "    <tr>\n",
       "      <th>0</th>\n",
       "      <td>41.92</td>\n",
       "      <td>2500.22</td>\n",
       "      <td>16570.72</td>\n",
       "      <td>2739.64</td>\n",
       "      <td>0</td>\n",
       "      <td>0</td>\n",
       "      <td>4</td>\n",
       "      <td>0</td>\n",
       "      <td>2</td>\n",
       "    </tr>\n",
       "    <tr>\n",
       "      <th>1</th>\n",
       "      <td>40.35</td>\n",
       "      <td>2508.60</td>\n",
       "      <td>4032.28</td>\n",
       "      <td>711.69</td>\n",
       "      <td>0</td>\n",
       "      <td>1</td>\n",
       "      <td>4</td>\n",
       "      <td>2</td>\n",
       "      <td>3</td>\n",
       "    </tr>\n",
       "    <tr>\n",
       "      <th>2</th>\n",
       "      <td>57.57</td>\n",
       "      <td>5259.40</td>\n",
       "      <td>19997.00</td>\n",
       "      <td>2231.66</td>\n",
       "      <td>1</td>\n",
       "      <td>0</td>\n",
       "      <td>1</td>\n",
       "      <td>2</td>\n",
       "      <td>0</td>\n",
       "    </tr>\n",
       "    <tr>\n",
       "      <th>3</th>\n",
       "      <td>25.08</td>\n",
       "      <td>9923.55</td>\n",
       "      <td>15604.72</td>\n",
       "      <td>2390.99</td>\n",
       "      <td>1</td>\n",
       "      <td>2</td>\n",
       "      <td>6</td>\n",
       "      <td>0</td>\n",
       "      <td>0</td>\n",
       "    </tr>\n",
       "    <tr>\n",
       "      <th>4</th>\n",
       "      <td>43.42</td>\n",
       "      <td>6140.75</td>\n",
       "      <td>36572.83</td>\n",
       "      <td>2015.91</td>\n",
       "      <td>0</td>\n",
       "      <td>1</td>\n",
       "      <td>3</td>\n",
       "      <td>3</td>\n",
       "      <td>0</td>\n",
       "    </tr>\n",
       "  </tbody>\n",
       "</table>\n",
       "</div>"
      ],
      "text/plain": [
       "     age   income     avbal  avtrans  sexNum  mstatusNum  occupationNum  \\\n",
       "0  41.92  2500.22  16570.72  2739.64       0           0              4   \n",
       "1  40.35  2508.60   4032.28   711.69       0           1              4   \n",
       "2  57.57  5259.40  19997.00  2231.66       1           0              1   \n",
       "3  25.08  9923.55  15604.72  2390.99       1           2              6   \n",
       "4  43.42  6140.75  36572.83  2015.91       0           1              3   \n",
       "\n",
       "   educationNum  childrenNum  \n",
       "0             0            2  \n",
       "1             2            3  \n",
       "2             2            0  \n",
       "3             0            0  \n",
       "4             3            0  "
      ]
     },
     "execution_count": 7,
     "metadata": {},
     "output_type": "execute_result"
    }
   ],
   "source": [
    "feature_columns = [\"age\", \"income\", \"avbal\", \"avtrans\", \"sexNum\", \"mstatusNum\", \"occupationNum\", \"educationNum\", \"childrenNum\"]\n",
    "target_column = [\"decision\"]\n",
    "X_train = train_df.loc[:, feature_columns]\n",
    "y_train = train_df.loc[:, target_column]\n",
    "X_val = val_df.loc[:, feature_columns]\n",
    "y_val = val_df.loc[:, target_column]\n",
    "X_train.head(5)"
   ]
  },
  {
   "cell_type": "markdown",
   "metadata": {},
   "source": [
    "## AdaBoost"
   ]
  },
  {
   "cell_type": "code",
   "execution_count": 8,
   "metadata": {},
   "outputs": [],
   "source": [
    "adaboost = AdaBoostClassifier(DecisionTreeClassifier(max_depth=5), algorithm=\"SAMME.R\", n_estimators=200, random_state=RANDOM_STATE)"
   ]
  },
  {
   "cell_type": "code",
   "execution_count": 9,
   "metadata": {},
   "outputs": [
    {
     "name": "stderr",
     "output_type": "stream",
     "text": [
      "/anaconda3/lib/python3.6/site-packages/sklearn/utils/validation.py:578: DataConversionWarning: A column-vector y was passed when a 1d array was expected. Please change the shape of y to (n_samples, ), for example using ravel().\n",
      "  y = column_or_1d(y, warn=True)\n"
     ]
    },
    {
     "data": {
      "text/plain": [
       "AdaBoostClassifier(algorithm='SAMME.R',\n",
       "          base_estimator=DecisionTreeClassifier(class_weight=None, criterion='gini', max_depth=5,\n",
       "            max_features=None, max_leaf_nodes=None,\n",
       "            min_impurity_decrease=0.0, min_impurity_split=None,\n",
       "            min_samples_leaf=1, min_samples_split=2,\n",
       "            min_weight_fraction_leaf=0.0, presort=False, random_state=None,\n",
       "            splitter='best'),\n",
       "          learning_rate=1.0, n_estimators=200, random_state=42)"
      ]
     },
     "execution_count": 9,
     "metadata": {},
     "output_type": "execute_result"
    }
   ],
   "source": [
    "adaboost.fit(X_train, y_train)"
   ]
  },
  {
   "cell_type": "code",
   "execution_count": 10,
   "metadata": {},
   "outputs": [],
   "source": [
    "y_pred_ada = adaboost.predict(X_val)"
   ]
  },
  {
   "cell_type": "code",
   "execution_count": 11,
   "metadata": {},
   "outputs": [
    {
     "data": {
      "image/png": "[encoded data removed]",
      "text/plain": [
       "<Figure size 432x288 with 2 Axes>"
      ]
     },
     "metadata": {
      "needs_background": "light"
     },
     "output_type": "display_data"
    }
   ],
   "source": [
    "cnf_matrix_ada = confusion_matrix(y_val, y_pred_ada)\n",
    "np.set_printoptions(precision=4)\n",
    "\n",
    "# Plot non-normalized confusion matrix\n",
    "plt.figure()\n",
    "plot_confusion_matrix(cnf_matrix_ada, classes=class_names,\n",
    "                      title='Confusion matrix, without normalization')"
   ]
  },
  {
   "cell_type": "code",
   "execution_count": 12,
   "metadata": {},
   "outputs": [
    {
     "name": "stdout",
     "output_type": "stream",
     "text": [
      "test accuracy: 0.808\n"
     ]
    }
   ],
   "source": [
    "print(\"test accuracy:\", accuracy_score(y_val, y_pred_ada))"
   ]
  },
  {
   "cell_type": "code",
   "execution_count": 13,
   "metadata": {},
   "outputs": [
    {
     "name": "stdout",
     "output_type": "stream",
     "text": [
      "kappa score: 0.2774131390377551\n"
     ]
    }
   ],
   "source": [
    "print(\"kappa score:\", cohen_kappa_score(y_val, y_pred_ada))"
   ]
  },
  {
   "cell_type": "code",
   "execution_count": 14,
   "metadata": {},
   "outputs": [
    {
     "data": {
      "text/html": [
       "<div>\n",
       "<style scoped>\n",
       "    .dataframe tbody tr th:only-of-type {\n",
       "        vertical-align: middle;\n",
       "    }\n",
       "\n",
       "    .dataframe tbody tr th {\n",
       "        vertical-align: top;\n",
       "    }\n",
       "\n",
       "    .dataframe thead th {\n",
       "        text-align: right;\n",
       "    }\n",
       "</style>\n",
       "<table border=\"1\" class=\"dataframe\">\n",
       "  <thead>\n",
       "    <tr style=\"text-align: right;\">\n",
       "      <th></th>\n",
       "      <th>precision</th>\n",
       "      <th>recall</th>\n",
       "      <th>f1-score</th>\n",
       "      <th>support</th>\n",
       "    </tr>\n",
       "  </thead>\n",
       "  <tbody>\n",
       "    <tr>\n",
       "      <th>A</th>\n",
       "      <td>0.3571</td>\n",
       "      <td>0.3030</td>\n",
       "      <td>0.3279</td>\n",
       "      <td>33</td>\n",
       "    </tr>\n",
       "    <tr>\n",
       "      <th>B</th>\n",
       "      <td>0.8000</td>\n",
       "      <td>0.4000</td>\n",
       "      <td>0.5333</td>\n",
       "      <td>10</td>\n",
       "    </tr>\n",
       "    <tr>\n",
       "      <th>None</th>\n",
       "      <td>0.8664</td>\n",
       "      <td>0.9082</td>\n",
       "      <td>0.8868</td>\n",
       "      <td>207</td>\n",
       "    </tr>\n",
       "  </tbody>\n",
       "</table>\n",
       "</div>"
      ],
      "text/plain": [
       "      precision  recall  f1-score  support\n",
       "A        0.3571  0.3030    0.3279       33\n",
       "B        0.8000  0.4000    0.5333       10\n",
       "None     0.8664  0.9082    0.8868      207"
      ]
     },
     "execution_count": 14,
     "metadata": {},
     "output_type": "execute_result"
    }
   ],
   "source": [
    "precision, recall, fscore, support = precision_recall_fscore_support(y_val, y_pred_ada, labels=class_names)\n",
    "score_dict = {\n",
    "  \"precision\": precision.round(4),\n",
    "  \"recall\": recall.round(4),\n",
    "  \"f1-score\": fscore.round(4),\n",
    "  \"support\": support\n",
    "}\n",
    "score_df = pd.DataFrame(score_dict, index=class_names)\n",
    "score_df"
   ]
  },
  {
   "cell_type": "markdown",
   "metadata": {},
   "source": [
    "## Gradient Boosting"
   ]
  },
  {
   "cell_type": "code",
   "execution_count": 15,
   "metadata": {},
   "outputs": [],
   "source": [
    "gradientboost = GradientBoostingClassifier(n_estimators=1000, max_leaf_nodes=5, max_depth=None, random_state=RANDOM_STATE, min_samples_split=5)"
   ]
  },
  {
   "cell_type": "code",
   "execution_count": 16,
   "metadata": {},
   "outputs": [
    {
     "name": "stderr",
     "output_type": "stream",
     "text": [
      "/anaconda3/lib/python3.6/site-packages/sklearn/utils/validation.py:578: DataConversionWarning: A column-vector y was passed when a 1d array was expected. Please change the shape of y to (n_samples, ), for example using ravel().\n",
      "  y = column_or_1d(y, warn=True)\n"
     ]
    },
    {
     "data": {
      "text/plain": [
       "GradientBoostingClassifier(criterion='friedman_mse', init=None,\n",
       "              learning_rate=0.1, loss='deviance', max_depth=None,\n",
       "              max_features=None, max_leaf_nodes=5,\n",
       "              min_impurity_decrease=0.0, min_impurity_split=None,\n",
       "              min_samples_leaf=1, min_samples_split=5,\n",
       "              min_weight_fraction_leaf=0.0, n_estimators=1000,\n",
       "              presort='auto', random_state=42, subsample=1.0, verbose=0,\n",
       "              warm_start=False)"
      ]
     },
     "execution_count": 16,
     "metadata": {},
     "output_type": "execute_result"
    }
   ],
   "source": [
    "gradientboost.fit(X_train, y_train)"
   ]
  },
  {
   "cell_type": "code",
   "execution_count": 17,
   "metadata": {},
   "outputs": [],
   "source": [
    "y_pred_grad = adaboost.predict(X_val)"
   ]
  },
  {
   "cell_type": "code",
   "execution_count": 18,
   "metadata": {},
   "outputs": [
    {
     "data": {
      "image/png": "[encoded data removed]",
      "text/plain": [
       "<Figure size 432x288 with 2 Axes>"
      ]
     },
     "metadata": {
      "needs_background": "light"
     },
     "output_type": "display_data"
    }
   ],
   "source": [
    "cnf_matrix_grad = confusion_matrix(y_val, y_pred_grad)\n",
    "np.set_printoptions(precision=2)\n",
    "\n",
    "# Plot non-normalized confusion matrix\n",
    "plt.figure()\n",
    "plot_confusion_matrix(cnf_matrix_grad, classes=class_names,\n",
    "                      title='Confusion matrix, without normalization')"
   ]
  },
  {
   "cell_type": "code",
   "execution_count": 19,
   "metadata": {},
   "outputs": [
    {
     "name": "stdout",
     "output_type": "stream",
     "text": [
      "test accuracy: 0.808\n"
     ]
    }
   ],
   "source": [
    "print(\"test accuracy:\", accuracy_score(y_val, y_pred_grad))"
   ]
  },
  {
   "cell_type": "code",
   "execution_count": 20,
   "metadata": {},
   "outputs": [
    {
     "name": "stdout",
     "output_type": "stream",
     "text": [
      "kappa score: 0.2774131390377551\n"
     ]
    }
   ],
   "source": [
    "print(\"kappa score:\", cohen_kappa_score(y_val, y_pred_grad))"
   ]
  },
  {
   "cell_type": "code",
   "execution_count": 21,
   "metadata": {},
   "outputs": [
    {
     "data": {
      "text/html": [
       "<div>\n",
       "<style scoped>\n",
       "    .dataframe tbody tr th:only-of-type {\n",
       "        vertical-align: middle;\n",
       "    }\n",
       "\n",
       "    .dataframe tbody tr th {\n",
       "        vertical-align: top;\n",
       "    }\n",
       "\n",
       "    .dataframe thead th {\n",
       "        text-align: right;\n",
       "    }\n",
       "</style>\n",
       "<table border=\"1\" class=\"dataframe\">\n",
       "  <thead>\n",
       "    <tr style=\"text-align: right;\">\n",
       "      <th></th>\n",
       "      <th>precision</th>\n",
       "      <th>recall</th>\n",
       "      <th>f1-score</th>\n",
       "      <th>support</th>\n",
       "    </tr>\n",
       "  </thead>\n",
       "  <tbody>\n",
       "    <tr>\n",
       "      <th>A</th>\n",
       "      <td>0.3571</td>\n",
       "      <td>0.3030</td>\n",
       "      <td>0.3279</td>\n",
       "      <td>33</td>\n",
       "    </tr>\n",
       "    <tr>\n",
       "      <th>B</th>\n",
       "      <td>0.8000</td>\n",
       "      <td>0.4000</td>\n",
       "      <td>0.5333</td>\n",
       "      <td>10</td>\n",
       "    </tr>\n",
       "    <tr>\n",
       "      <th>None</th>\n",
       "      <td>0.8664</td>\n",
       "      <td>0.9082</td>\n",
       "      <td>0.8868</td>\n",
       "      <td>207</td>\n",
       "    </tr>\n",
       "  </tbody>\n",
       "</table>\n",
       "</div>"
      ],
      "text/plain": [
       "      precision  recall  f1-score  support\n",
       "A        0.3571  0.3030    0.3279       33\n",
       "B        0.8000  0.4000    0.5333       10\n",
       "None     0.8664  0.9082    0.8868      207"
      ]
     },
     "execution_count": 21,
     "metadata": {},
     "output_type": "execute_result"
    }
   ],
   "source": [
    "precision, recall, fscore, support = precision_recall_fscore_support(y_val, y_pred_grad, labels=class_names)\n",
    "score_dict = {\n",
    "  \"precision\": precision.round(4),\n",
    "  \"recall\": recall.round(4),\n",
    "  \"f1-score\": fscore.round(4),\n",
    "  \"support\": support\n",
    "}\n",
    "score_df = pd.DataFrame(score_dict, index=class_names)\n",
    "score_df"
   ]
  },
  {
   "cell_type": "markdown",
   "metadata": {},
   "source": [
    "## XGBoost"
   ]
  },
  {
   "cell_type": "code",
   "execution_count": 22,
   "metadata": {},
   "outputs": [
    {
     "name": "stderr",
     "output_type": "stream",
     "text": [
      "/anaconda3/lib/python3.6/site-packages/sklearn/preprocessing/label.py:95: DataConversionWarning: A column-vector y was passed when a 1d array was expected. Please change the shape of y to (n_samples, ), for example using ravel().\n",
      "  y = column_or_1d(y, warn=True)\n",
      "/anaconda3/lib/python3.6/site-packages/sklearn/preprocessing/label.py:128: DataConversionWarning: A column-vector y was passed when a 1d array was expected. Please change the shape of y to (n_samples, ), for example using ravel().\n",
      "  y = column_or_1d(y, warn=True)\n"
     ]
    },
    {
     "data": {
      "text/plain": [
       "XGBClassifier(base_score=0.33, booster='gbtree', colsample_bylevel=1,\n",
       "       colsample_bytree=1, gamma=0, learning_rate=0.1, max_delta_step=0,\n",
       "       max_depth=10, min_child_weight=1, missing=None, n_estimators=500,\n",
       "       n_jobs=10, nthread=None, objective='multi:softprob',\n",
       "       random_state=42, reg_alpha=0, reg_lambda=1, scale_pos_weight=1,\n",
       "       seed=None, silent=True, subsample=1)"
      ]
     },
     "execution_count": 22,
     "metadata": {},
     "output_type": "execute_result"
    }
   ],
   "source": [
    "bst = xgb.XGBClassifier(n_jobs=10, max_depth=10, learning_rate=0.1, n_estimators=500, booster='gbtree', base_score=0.33, random_state=RANDOM_STATE)\n",
    "bst.fit(X_train, y_train)"
   ]
  },
  {
   "cell_type": "code",
   "execution_count": 23,
   "metadata": {},
   "outputs": [
    {
     "name": "stderr",
     "output_type": "stream",
     "text": [
      "/anaconda3/lib/python3.6/site-packages/sklearn/preprocessing/label.py:151: DeprecationWarning: The truth value of an empty array is ambiguous. Returning False, but in future this will result in an error. Use `array.size > 0` to check that an array is not empty.\n",
      "  if diff:\n"
     ]
    }
   ],
   "source": [
    "y_pred_xgb = bst.predict(X_val)"
   ]
  },
  {
   "cell_type": "code",
   "execution_count": 24,
   "metadata": {},
   "outputs": [
    {
     "data": {
      "image/png": "[encoded data removed]",
      "text/plain": [
       "<Figure size 432x288 with 2 Axes>"
      ]
     },
     "metadata": {
      "needs_background": "light"
     },
     "output_type": "display_data"
    }
   ],
   "source": [
    "cnf_matrix_grad = confusion_matrix(y_val, y_pred_xgb)\n",
    "np.set_printoptions(precision=4)\n",
    "\n",
    "# Plot non-normalized confusion matrix\n",
    "plt.figure()\n",
    "plot_confusion_matrix(cnf_matrix_grad, classes=class_names,\n",
    "                      title='Confusion matrix, without normalization')"
   ]
  },
  {
   "cell_type": "code",
   "execution_count": 25,
   "metadata": {},
   "outputs": [
    {
     "name": "stdout",
     "output_type": "stream",
     "text": [
      "test accuracy: 0.796\n"
     ]
    }
   ],
   "source": [
    "print(\"test accuracy:\", accuracy_score(y_val, y_pred_xgb))"
   ]
  },
  {
   "cell_type": "code",
   "execution_count": 26,
   "metadata": {},
   "outputs": [
    {
     "name": "stdout",
     "output_type": "stream",
     "text": [
      "kappa score: 0.25764192139737996\n"
     ]
    }
   ],
   "source": [
    "print(\"kappa score:\", cohen_kappa_score(y_val, y_pred_xgb))"
   ]
  },
  {
   "cell_type": "code",
   "execution_count": 27,
   "metadata": {},
   "outputs": [
    {
     "data": {
      "text/html": [
       "<div>\n",
       "<style scoped>\n",
       "    .dataframe tbody tr th:only-of-type {\n",
       "        vertical-align: middle;\n",
       "    }\n",
       "\n",
       "    .dataframe tbody tr th {\n",
       "        vertical-align: top;\n",
       "    }\n",
       "\n",
       "    .dataframe thead th {\n",
       "        text-align: right;\n",
       "    }\n",
       "</style>\n",
       "<table border=\"1\" class=\"dataframe\">\n",
       "  <thead>\n",
       "    <tr style=\"text-align: right;\">\n",
       "      <th></th>\n",
       "      <th>precision</th>\n",
       "      <th>recall</th>\n",
       "      <th>f1-score</th>\n",
       "      <th>support</th>\n",
       "    </tr>\n",
       "  </thead>\n",
       "  <tbody>\n",
       "    <tr>\n",
       "      <th>A</th>\n",
       "      <td>0.3448</td>\n",
       "      <td>0.3030</td>\n",
       "      <td>0.3226</td>\n",
       "      <td>33</td>\n",
       "    </tr>\n",
       "    <tr>\n",
       "      <th>B</th>\n",
       "      <td>0.5714</td>\n",
       "      <td>0.4000</td>\n",
       "      <td>0.4706</td>\n",
       "      <td>10</td>\n",
       "    </tr>\n",
       "    <tr>\n",
       "      <th>None</th>\n",
       "      <td>0.8645</td>\n",
       "      <td>0.8937</td>\n",
       "      <td>0.8789</td>\n",
       "      <td>207</td>\n",
       "    </tr>\n",
       "  </tbody>\n",
       "</table>\n",
       "</div>"
      ],
      "text/plain": [
       "      precision  recall  f1-score  support\n",
       "A        0.3448  0.3030    0.3226       33\n",
       "B        0.5714  0.4000    0.4706       10\n",
       "None     0.8645  0.8937    0.8789      207"
      ]
     },
     "execution_count": 27,
     "metadata": {},
     "output_type": "execute_result"
    }
   ],
   "source": [
    "precision, recall, fscore, support = precision_recall_fscore_support(y_val, y_pred_xgb, labels=class_names)\n",
    "score_dict = {\n",
    "  \"precision\": precision.round(4),\n",
    "  \"recall\": recall.round(4),\n",
    "  \"f1-score\": fscore.round(4),\n",
    "  \"support\": support\n",
    "}\n",
    "score_df = pd.DataFrame(score_dict, index=class_names)\n",
    "score_df"
   ]
  },
  {
   "cell_type": "markdown",
   "metadata": {},
   "source": [
    "# Save the best model for later usage"
   ]
  },
  {
   "cell_type": "code",
   "execution_count": 29,
   "metadata": {},
   "outputs": [],
   "source": [
    "import pickle\n",
    "\n",
    "# save model to file\n",
    "pickle.dump(bst, open(\"models/xgboost_kappa_0_2576.pickle.dat\", \"wb\"))"
   ]
  },
  {
   "cell_type": "markdown",
   "metadata": {},
   "source": [
    "# Use Model to predict"
   ]
  },
  {
   "cell_type": "code",
   "execution_count": 30,
   "metadata": {},
   "outputs": [],
   "source": [
    "model = pickle.load(open(\"models/xgboost_kappa_0_2576.pickle.dat\", \"rb\"))"
   ]
  },
  {
   "cell_type": "code",
   "execution_count": 38,
   "metadata": {},
   "outputs": [
    {
     "data": {
      "text/html": [
       "<div>\n",
       "<style scoped>\n",
       "    .dataframe tbody tr th:only-of-type {\n",
       "        vertical-align: middle;\n",
       "    }\n",
       "\n",
       "    .dataframe tbody tr th {\n",
       "        vertical-align: top;\n",
       "    }\n",
       "\n",
       "    .dataframe thead th {\n",
       "        text-align: right;\n",
       "    }\n",
       "</style>\n",
       "<table border=\"1\" class=\"dataframe\">\n",
       "  <thead>\n",
       "    <tr style=\"text-align: right;\">\n",
       "      <th></th>\n",
       "      <th>index</th>\n",
       "      <th>sex</th>\n",
       "      <th>mstatus</th>\n",
       "      <th>age</th>\n",
       "      <th>children</th>\n",
       "      <th>occupation</th>\n",
       "      <th>education</th>\n",
       "      <th>income</th>\n",
       "      <th>avbal</th>\n",
       "      <th>avtrans</th>\n",
       "      <th>status</th>\n",
       "      <th>score</th>\n",
       "    </tr>\n",
       "  </thead>\n",
       "  <tbody>\n",
       "    <tr>\n",
       "      <th>0</th>\n",
       "      <td>1001</td>\n",
       "      <td>M</td>\n",
       "      <td>divorced</td>\n",
       "      <td>44.27</td>\n",
       "      <td>2</td>\n",
       "      <td>legal</td>\n",
       "      <td>postgrad</td>\n",
       "      <td>10245.73</td>\n",
       "      <td>53183.04</td>\n",
       "      <td>4069.67</td>\n",
       "      <td>None</td>\n",
       "      <td>5.2</td>\n",
       "    </tr>\n",
       "    <tr>\n",
       "      <th>1</th>\n",
       "      <td>1002</td>\n",
       "      <td>M</td>\n",
       "      <td>married</td>\n",
       "      <td>61.90</td>\n",
       "      <td>1</td>\n",
       "      <td>legal</td>\n",
       "      <td>secondary</td>\n",
       "      <td>1942.57</td>\n",
       "      <td>18100.78</td>\n",
       "      <td>1522.42</td>\n",
       "      <td>None</td>\n",
       "      <td>2.5</td>\n",
       "    </tr>\n",
       "    <tr>\n",
       "      <th>2</th>\n",
       "      <td>1003</td>\n",
       "      <td>M</td>\n",
       "      <td>divorced</td>\n",
       "      <td>37.30</td>\n",
       "      <td>1</td>\n",
       "      <td>IT</td>\n",
       "      <td>tertiary</td>\n",
       "      <td>9896.16</td>\n",
       "      <td>24496.82</td>\n",
       "      <td>2723.35</td>\n",
       "      <td>None</td>\n",
       "      <td>4.1</td>\n",
       "    </tr>\n",
       "    <tr>\n",
       "      <th>3</th>\n",
       "      <td>1004</td>\n",
       "      <td>F</td>\n",
       "      <td>divorced</td>\n",
       "      <td>25.02</td>\n",
       "      <td>1</td>\n",
       "      <td>legal</td>\n",
       "      <td>postgrad</td>\n",
       "      <td>10136.44</td>\n",
       "      <td>26690.01</td>\n",
       "      <td>4143.04</td>\n",
       "      <td>None</td>\n",
       "      <td>4.4</td>\n",
       "    </tr>\n",
       "    <tr>\n",
       "      <th>4</th>\n",
       "      <td>1005</td>\n",
       "      <td>F</td>\n",
       "      <td>divorced</td>\n",
       "      <td>48.37</td>\n",
       "      <td>2</td>\n",
       "      <td>government</td>\n",
       "      <td>secondary</td>\n",
       "      <td>2521.11</td>\n",
       "      <td>13439.81</td>\n",
       "      <td>240.26</td>\n",
       "      <td>None</td>\n",
       "      <td>2.3</td>\n",
       "    </tr>\n",
       "  </tbody>\n",
       "</table>\n",
       "</div>"
      ],
      "text/plain": [
       "   index  sex   mstatus    age   children  occupation  education    income  \\\n",
       "0   1001    M  divorced  44.27          2       legal   postgrad  10245.73   \n",
       "1   1002    M   married  61.90          1       legal  secondary   1942.57   \n",
       "2   1003    M  divorced  37.30          1          IT   tertiary   9896.16   \n",
       "3   1004    F  divorced  25.02          1       legal   postgrad  10136.44   \n",
       "4   1005    F  divorced  48.37          2  government  secondary   2521.11   \n",
       "\n",
       "      avbal   avtrans status  score  \n",
       "0  53183.04   4069.67   None    5.2  \n",
       "1  18100.78   1522.42   None    2.5  \n",
       "2  24496.82   2723.35   None    4.1  \n",
       "3  26690.01   4143.04   None    4.4  \n",
       "4  13439.81    240.26   None    2.3  "
      ]
     },
     "execution_count": 38,
     "metadata": {},
     "output_type": "execute_result"
    }
   ],
   "source": [
    "df = pd.read_csv(\"original_data/cust_actual_merged.csv\")\n",
    "df.head(5)"
   ]
  },
  {
   "cell_type": "code",
   "execution_count": 39,
   "metadata": {},
   "outputs": [
    {
     "data": {
      "text/plain": [
       "array(['index', 'sex', 'mstatus', 'age', 'children', 'occupation',\n",
       "       'education', 'income', 'avbal', 'avtrans', 'status', 'score'],\n",
       "      dtype=object)"
      ]
     },
     "execution_count": 39,
     "metadata": {},
     "output_type": "execute_result"
    }
   ],
   "source": [
    "# strip the spaces in the header, if present\n",
    "df = df.rename(columns=lambda x: x.strip())\n",
    "df.columns.values"
   ]
  },
  {
   "cell_type": "code",
   "execution_count": 40,
   "metadata": {},
   "outputs": [
    {
     "data": {
      "text/html": [
       "<div>\n",
       "<style scoped>\n",
       "    .dataframe tbody tr th:only-of-type {\n",
       "        vertical-align: middle;\n",
       "    }\n",
       "\n",
       "    .dataframe tbody tr th {\n",
       "        vertical-align: top;\n",
       "    }\n",
       "\n",
       "    .dataframe thead th {\n",
       "        text-align: right;\n",
       "    }\n",
       "</style>\n",
       "<table border=\"1\" class=\"dataframe\">\n",
       "  <thead>\n",
       "    <tr style=\"text-align: right;\">\n",
       "      <th></th>\n",
       "      <th>index</th>\n",
       "      <th>age</th>\n",
       "      <th>income</th>\n",
       "      <th>avbal</th>\n",
       "      <th>avtrans</th>\n",
       "      <th>status</th>\n",
       "      <th>score</th>\n",
       "      <th>sexNum</th>\n",
       "      <th>mstatusNum</th>\n",
       "      <th>occupationNum</th>\n",
       "      <th>...</th>\n",
       "      <th>occupation_retired</th>\n",
       "      <th>education_postgrad</th>\n",
       "      <th>education_professional</th>\n",
       "      <th>education_secondary</th>\n",
       "      <th>education_tertiary</th>\n",
       "      <th>children_0</th>\n",
       "      <th>children_1</th>\n",
       "      <th>children_2</th>\n",
       "      <th>children_3</th>\n",
       "      <th>children_4</th>\n",
       "    </tr>\n",
       "  </thead>\n",
       "  <tbody>\n",
       "    <tr>\n",
       "      <th>0</th>\n",
       "      <td>1001</td>\n",
       "      <td>44.27</td>\n",
       "      <td>10245.73</td>\n",
       "      <td>53183.04</td>\n",
       "      <td>4069.67</td>\n",
       "      <td>None</td>\n",
       "      <td>5.2</td>\n",
       "      <td>1</td>\n",
       "      <td>0</td>\n",
       "      <td>5</td>\n",
       "      <td>...</td>\n",
       "      <td>0</td>\n",
       "      <td>1</td>\n",
       "      <td>0</td>\n",
       "      <td>0</td>\n",
       "      <td>0</td>\n",
       "      <td>0</td>\n",
       "      <td>0</td>\n",
       "      <td>1</td>\n",
       "      <td>0</td>\n",
       "      <td>0</td>\n",
       "    </tr>\n",
       "    <tr>\n",
       "      <th>1</th>\n",
       "      <td>1002</td>\n",
       "      <td>61.90</td>\n",
       "      <td>1942.57</td>\n",
       "      <td>18100.78</td>\n",
       "      <td>1522.42</td>\n",
       "      <td>None</td>\n",
       "      <td>2.5</td>\n",
       "      <td>1</td>\n",
       "      <td>1</td>\n",
       "      <td>5</td>\n",
       "      <td>...</td>\n",
       "      <td>0</td>\n",
       "      <td>0</td>\n",
       "      <td>0</td>\n",
       "      <td>1</td>\n",
       "      <td>0</td>\n",
       "      <td>0</td>\n",
       "      <td>1</td>\n",
       "      <td>0</td>\n",
       "      <td>0</td>\n",
       "      <td>0</td>\n",
       "    </tr>\n",
       "    <tr>\n",
       "      <th>2</th>\n",
       "      <td>1003</td>\n",
       "      <td>37.30</td>\n",
       "      <td>9896.16</td>\n",
       "      <td>24496.82</td>\n",
       "      <td>2723.35</td>\n",
       "      <td>None</td>\n",
       "      <td>4.1</td>\n",
       "      <td>1</td>\n",
       "      <td>0</td>\n",
       "      <td>0</td>\n",
       "      <td>...</td>\n",
       "      <td>0</td>\n",
       "      <td>0</td>\n",
       "      <td>0</td>\n",
       "      <td>0</td>\n",
       "      <td>1</td>\n",
       "      <td>0</td>\n",
       "      <td>1</td>\n",
       "      <td>0</td>\n",
       "      <td>0</td>\n",
       "      <td>0</td>\n",
       "    </tr>\n",
       "    <tr>\n",
       "      <th>3</th>\n",
       "      <td>1004</td>\n",
       "      <td>25.02</td>\n",
       "      <td>10136.44</td>\n",
       "      <td>26690.01</td>\n",
       "      <td>4143.04</td>\n",
       "      <td>None</td>\n",
       "      <td>4.4</td>\n",
       "      <td>0</td>\n",
       "      <td>0</td>\n",
       "      <td>5</td>\n",
       "      <td>...</td>\n",
       "      <td>0</td>\n",
       "      <td>1</td>\n",
       "      <td>0</td>\n",
       "      <td>0</td>\n",
       "      <td>0</td>\n",
       "      <td>0</td>\n",
       "      <td>1</td>\n",
       "      <td>0</td>\n",
       "      <td>0</td>\n",
       "      <td>0</td>\n",
       "    </tr>\n",
       "    <tr>\n",
       "      <th>4</th>\n",
       "      <td>1005</td>\n",
       "      <td>48.37</td>\n",
       "      <td>2521.11</td>\n",
       "      <td>13439.81</td>\n",
       "      <td>240.26</td>\n",
       "      <td>None</td>\n",
       "      <td>2.3</td>\n",
       "      <td>0</td>\n",
       "      <td>0</td>\n",
       "      <td>4</td>\n",
       "      <td>...</td>\n",
       "      <td>0</td>\n",
       "      <td>0</td>\n",
       "      <td>0</td>\n",
       "      <td>1</td>\n",
       "      <td>0</td>\n",
       "      <td>0</td>\n",
       "      <td>0</td>\n",
       "      <td>1</td>\n",
       "      <td>0</td>\n",
       "      <td>0</td>\n",
       "    </tr>\n",
       "  </tbody>\n",
       "</table>\n",
       "<p>5 rows × 36 columns</p>\n",
       "</div>"
      ],
      "text/plain": [
       "   index    age    income     avbal  avtrans status  score  sexNum  \\\n",
       "0   1001  44.27  10245.73  53183.04  4069.67   None    5.2       1   \n",
       "1   1002  61.90   1942.57  18100.78  1522.42   None    2.5       1   \n",
       "2   1003  37.30   9896.16  24496.82  2723.35   None    4.1       1   \n",
       "3   1004  25.02  10136.44  26690.01  4143.04   None    4.4       0   \n",
       "4   1005  48.37   2521.11  13439.81   240.26   None    2.3       0   \n",
       "\n",
       "   mstatusNum  occupationNum     ...      occupation_retired  \\\n",
       "0           0              5     ...                       0   \n",
       "1           1              5     ...                       0   \n",
       "2           0              0     ...                       0   \n",
       "3           0              5     ...                       0   \n",
       "4           0              4     ...                       0   \n",
       "\n",
       "   education_postgrad  education_professional  education_secondary  \\\n",
       "0                   1                       0                    0   \n",
       "1                   0                       0                    1   \n",
       "2                   0                       0                    0   \n",
       "3                   1                       0                    0   \n",
       "4                   0                       0                    1   \n",
       "\n",
       "   education_tertiary  children_0  children_1  children_2  children_3  \\\n",
       "0                   0           0           0           1           0   \n",
       "1                   0           0           1           0           0   \n",
       "2                   1           0           1           0           0   \n",
       "3                   0           0           1           0           0   \n",
       "4                   0           0           0           1           0   \n",
       "\n",
       "   children_4  \n",
       "0           0  \n",
       "1           0  \n",
       "2           0  \n",
       "3           0  \n",
       "4           0  \n",
       "\n",
       "[5 rows x 36 columns]"
      ]
     },
     "execution_count": 40,
     "metadata": {},
     "output_type": "execute_result"
    }
   ],
   "source": [
    "categorical_features = [\"sex\", \"mstatus\", \"occupation\", \"education\", \"children\"]\n",
    "df[categorical_features].head()\n",
    "df[\"children\"] = df[\"children\"].astype(str)\n",
    "label_encoders = {}\n",
    "label_mappings = {}\n",
    "for categorical_feature in categorical_features:\n",
    "    label_encoders[categorical_feature] = preprocessing.LabelEncoder()\n",
    "    df[categorical_feature + \"Num\"] = label_encoders[categorical_feature].fit_transform(df[categorical_feature])\n",
    "    label_mappings[categorical_feature] = label_encoders[categorical_feature].classes_\n",
    "\n",
    "label_encoders = {}\n",
    "label_mappings = {}\n",
    "for categorical_feature in categorical_features:\n",
    "    label_encoders[categorical_feature] = preprocessing.LabelEncoder()\n",
    "    df[categorical_feature + \"Num\"] = label_encoders[categorical_feature].fit_transform(df[categorical_feature])\n",
    "    label_mappings[categorical_feature] = label_encoders[categorical_feature].classes_\n",
    "\n",
    "for categorical_feature in categorical_features:\n",
    "    for class_value in label_mappings[categorical_feature]:\n",
    "        df[categorical_feature + \"_\" + (class_value)] = df[categorical_feature] == np.array([(class_value)] * df.shape[0])\n",
    "        df[categorical_feature + \"_\" + (class_value)] = df[categorical_feature + \"_\" + (class_value)].astype(int)\n",
    "\n",
    "# drop the categorical values\n",
    "df = df.drop(categorical_features, axis=1)\n",
    "\n",
    "df.head()"
   ]
  },
  {
   "cell_type": "code",
   "execution_count": 41,
   "metadata": {},
   "outputs": [
    {
     "data": {
      "text/html": [
       "<div>\n",
       "<style scoped>\n",
       "    .dataframe tbody tr th:only-of-type {\n",
       "        vertical-align: middle;\n",
       "    }\n",
       "\n",
       "    .dataframe tbody tr th {\n",
       "        vertical-align: top;\n",
       "    }\n",
       "\n",
       "    .dataframe thead th {\n",
       "        text-align: right;\n",
       "    }\n",
       "</style>\n",
       "<table border=\"1\" class=\"dataframe\">\n",
       "  <thead>\n",
       "    <tr style=\"text-align: right;\">\n",
       "      <th></th>\n",
       "      <th>age</th>\n",
       "      <th>income</th>\n",
       "      <th>avbal</th>\n",
       "      <th>avtrans</th>\n",
       "      <th>sexNum</th>\n",
       "      <th>mstatusNum</th>\n",
       "      <th>occupationNum</th>\n",
       "      <th>educationNum</th>\n",
       "      <th>childrenNum</th>\n",
       "    </tr>\n",
       "  </thead>\n",
       "  <tbody>\n",
       "    <tr>\n",
       "      <th>0</th>\n",
       "      <td>44.27</td>\n",
       "      <td>10245.73</td>\n",
       "      <td>53183.04</td>\n",
       "      <td>4069.67</td>\n",
       "      <td>1</td>\n",
       "      <td>0</td>\n",
       "      <td>5</td>\n",
       "      <td>0</td>\n",
       "      <td>2</td>\n",
       "    </tr>\n",
       "    <tr>\n",
       "      <th>1</th>\n",
       "      <td>61.90</td>\n",
       "      <td>1942.57</td>\n",
       "      <td>18100.78</td>\n",
       "      <td>1522.42</td>\n",
       "      <td>1</td>\n",
       "      <td>1</td>\n",
       "      <td>5</td>\n",
       "      <td>2</td>\n",
       "      <td>1</td>\n",
       "    </tr>\n",
       "    <tr>\n",
       "      <th>2</th>\n",
       "      <td>37.30</td>\n",
       "      <td>9896.16</td>\n",
       "      <td>24496.82</td>\n",
       "      <td>2723.35</td>\n",
       "      <td>1</td>\n",
       "      <td>0</td>\n",
       "      <td>0</td>\n",
       "      <td>3</td>\n",
       "      <td>1</td>\n",
       "    </tr>\n",
       "    <tr>\n",
       "      <th>3</th>\n",
       "      <td>25.02</td>\n",
       "      <td>10136.44</td>\n",
       "      <td>26690.01</td>\n",
       "      <td>4143.04</td>\n",
       "      <td>0</td>\n",
       "      <td>0</td>\n",
       "      <td>5</td>\n",
       "      <td>0</td>\n",
       "      <td>1</td>\n",
       "    </tr>\n",
       "    <tr>\n",
       "      <th>4</th>\n",
       "      <td>48.37</td>\n",
       "      <td>2521.11</td>\n",
       "      <td>13439.81</td>\n",
       "      <td>240.26</td>\n",
       "      <td>0</td>\n",
       "      <td>0</td>\n",
       "      <td>4</td>\n",
       "      <td>2</td>\n",
       "      <td>2</td>\n",
       "    </tr>\n",
       "  </tbody>\n",
       "</table>\n",
       "</div>"
      ],
      "text/plain": [
       "     age    income     avbal  avtrans  sexNum  mstatusNum  occupationNum  \\\n",
       "0  44.27  10245.73  53183.04  4069.67       1           0              5   \n",
       "1  61.90   1942.57  18100.78  1522.42       1           1              5   \n",
       "2  37.30   9896.16  24496.82  2723.35       1           0              0   \n",
       "3  25.02  10136.44  26690.01  4143.04       0           0              5   \n",
       "4  48.37   2521.11  13439.81   240.26       0           0              4   \n",
       "\n",
       "   educationNum  childrenNum  \n",
       "0             0            2  \n",
       "1             2            1  \n",
       "2             3            1  \n",
       "3             0            1  \n",
       "4             2            2  "
      ]
     },
     "execution_count": 41,
     "metadata": {},
     "output_type": "execute_result"
    }
   ],
   "source": [
    "feature_columns = [\"age\", \"income\", \"avbal\", \"avtrans\", \"sexNum\", \"mstatusNum\", \"occupationNum\", \"educationNum\", \"childrenNum\"]\n",
    "target_column = [\"status\"]\n",
    "X_test = df.loc[:, feature_columns]\n",
    "y_test = df.loc[:, target_column]\n",
    "X_test.head(5)"
   ]
  },
  {
   "cell_type": "code",
   "execution_count": 42,
   "metadata": {},
   "outputs": [
    {
     "name": "stderr",
     "output_type": "stream",
     "text": [
      "/anaconda3/lib/python3.6/site-packages/sklearn/preprocessing/label.py:151: DeprecationWarning: The truth value of an empty array is ambiguous. Returning False, but in future this will result in an error. Use `array.size > 0` to check that an array is not empty.\n",
      "  if diff:\n"
     ]
    },
    {
     "data": {
      "image/png": "[encoded data removed]",
      "text/plain": [
       "<Figure size 432x288 with 2 Axes>"
      ]
     },
     "metadata": {
      "needs_background": "light"
     },
     "output_type": "display_data"
    }
   ],
   "source": [
    "y_test_pred = model.predict(X_test)\n",
    "\n",
    "cnf_matrix_grad = confusion_matrix(y_test, y_test_pred)\n",
    "np.set_printoptions(precision=4)\n",
    "\n",
    "# Plot non-normalized confusion matrix\n",
    "plt.figure()\n",
    "plot_confusion_matrix(cnf_matrix_grad, classes=class_names,\n",
    "                      title='Confusion matrix, without normalization')"
   ]
  },
  {
   "cell_type": "code",
   "execution_count": 43,
   "metadata": {},
   "outputs": [
    {
     "name": "stdout",
     "output_type": "stream",
     "text": [
      "test accuracy: 0.78025\n",
      "kappa score: 0.16250998330498423\n"
     ]
    }
   ],
   "source": [
    "print(\"test accuracy:\", accuracy_score(y_test, y_test_pred))\n",
    "print(\"kappa score:\", cohen_kappa_score(y_test, y_test_pred))"
   ]
  },
  {
   "cell_type": "code",
   "execution_count": 44,
   "metadata": {},
   "outputs": [
    {
     "data": {
      "text/html": [
       "<div>\n",
       "<style scoped>\n",
       "    .dataframe tbody tr th:only-of-type {\n",
       "        vertical-align: middle;\n",
       "    }\n",
       "\n",
       "    .dataframe tbody tr th {\n",
       "        vertical-align: top;\n",
       "    }\n",
       "\n",
       "    .dataframe thead th {\n",
       "        text-align: right;\n",
       "    }\n",
       "</style>\n",
       "<table border=\"1\" class=\"dataframe\">\n",
       "  <thead>\n",
       "    <tr style=\"text-align: right;\">\n",
       "      <th></th>\n",
       "      <th>precision</th>\n",
       "      <th>recall</th>\n",
       "      <th>f1-score</th>\n",
       "      <th>support</th>\n",
       "    </tr>\n",
       "  </thead>\n",
       "  <tbody>\n",
       "    <tr>\n",
       "      <th>A</th>\n",
       "      <td>0.3248</td>\n",
       "      <td>0.2550</td>\n",
       "      <td>0.2857</td>\n",
       "      <td>498</td>\n",
       "    </tr>\n",
       "    <tr>\n",
       "      <th>B</th>\n",
       "      <td>0.2772</td>\n",
       "      <td>0.1407</td>\n",
       "      <td>0.1867</td>\n",
       "      <td>199</td>\n",
       "    </tr>\n",
       "    <tr>\n",
       "      <th>None</th>\n",
       "      <td>0.8455</td>\n",
       "      <td>0.8980</td>\n",
       "      <td>0.8709</td>\n",
       "      <td>3303</td>\n",
       "    </tr>\n",
       "  </tbody>\n",
       "</table>\n",
       "</div>"
      ],
      "text/plain": [
       "      precision  recall  f1-score  support\n",
       "A        0.3248  0.2550    0.2857      498\n",
       "B        0.2772  0.1407    0.1867      199\n",
       "None     0.8455  0.8980    0.8709     3303"
      ]
     },
     "execution_count": 44,
     "metadata": {},
     "output_type": "execute_result"
    }
   ],
   "source": [
    "precision, recall, fscore, support = precision_recall_fscore_support(y_test, y_test_pred, labels=class_names)\n",
    "score_dict = {\n",
    "  \"precision\": precision.round(4),\n",
    "  \"recall\": recall.round(4),\n",
    "  \"f1-score\": fscore.round(4),\n",
    "  \"support\": support\n",
    "}\n",
    "score_df = pd.DataFrame(score_dict, index=class_names)\n",
    "score_df"
   ]
  }
 ],
 "metadata": {
  "kernelspec": {
   "display_name": "Python 3",
   "language": "python",
   "name": "python3"
  },
  "language_info": {
   "codemirror_mode": {
    "name": "ipython",
    "version": 3
   },
   "file_extension": ".py",
   "mimetype": "text/x-python",
   "name": "python",
   "nbconvert_exporter": "python",
   "pygments_lexer": "ipython3",
   "version": "3.6.6"
  }
 },
 "nbformat": 4,
 "nbformat_minor": 2
}
